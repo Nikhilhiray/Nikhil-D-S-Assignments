{
 "cells": [
  {
   "cell_type": "code",
   "execution_count": 1,
   "id": "0e6c438f",
   "metadata": {},
   "outputs": [],
   "source": [
    "import numpy as np \n",
    "import pandas as pd\n",
    "from scipy.stats import stats\n",
    "import math\n",
    "from scipy.stats import chi2_contingency\n",
    "from scipy.stats import chi2"
   ]
  },
  {
   "cell_type": "code",
   "execution_count": 2,
   "id": "1bc81372",
   "metadata": {},
   "outputs": [
    {
     "data": {
      "text/html": [
       "<div>\n",
       "<style scoped>\n",
       "    .dataframe tbody tr th:only-of-type {\n",
       "        vertical-align: middle;\n",
       "    }\n",
       "\n",
       "    .dataframe tbody tr th {\n",
       "        vertical-align: top;\n",
       "    }\n",
       "\n",
       "    .dataframe thead th {\n",
       "        text-align: right;\n",
       "    }\n",
       "</style>\n",
       "<table border=\"1\" class=\"dataframe\">\n",
       "  <thead>\n",
       "    <tr style=\"text-align: right;\">\n",
       "      <th></th>\n",
       "      <th>Observed Values</th>\n",
       "      <th>East</th>\n",
       "      <th>West</th>\n",
       "      <th>North</th>\n",
       "      <th>South</th>\n",
       "    </tr>\n",
       "  </thead>\n",
       "  <tbody>\n",
       "    <tr>\n",
       "      <th>0</th>\n",
       "      <td>Males</td>\n",
       "      <td>50</td>\n",
       "      <td>142</td>\n",
       "      <td>131</td>\n",
       "      <td>70</td>\n",
       "    </tr>\n",
       "    <tr>\n",
       "      <th>1</th>\n",
       "      <td>Females</td>\n",
       "      <td>435</td>\n",
       "      <td>1523</td>\n",
       "      <td>1356</td>\n",
       "      <td>750</td>\n",
       "    </tr>\n",
       "  </tbody>\n",
       "</table>\n",
       "</div>"
      ],
      "text/plain": [
       "  Observed Values  East  West  North  South\n",
       "0           Males    50   142    131     70\n",
       "1         Females   435  1523   1356    750"
      ]
     },
     "execution_count": 2,
     "metadata": {},
     "output_type": "execute_result"
    }
   ],
   "source": [
    "ratio =pd.read_csv('C:\\\\Nikhil\\\\\\DS\\\\ML\\\\Assignments\\\\Hypothesis testing\\\\BuyerRatio.csv')\n",
    "ratio.head()"
   ]
  },
  {
   "cell_type": "code",
   "execution_count": 3,
   "id": "1d7eba4d",
   "metadata": {},
   "outputs": [],
   "source": [
    "ratio=ratio.drop(['Observed Values'], axis=1)"
   ]
  },
  {
   "cell_type": "code",
   "execution_count": 4,
   "id": "c85fa73c",
   "metadata": {},
   "outputs": [],
   "source": [
    "males = ratio.iloc[0]\n",
    "females = ratio.iloc[1]"
   ]
  },
  {
   "cell_type": "code",
   "execution_count": 5,
   "id": "8570e6bb",
   "metadata": {},
   "outputs": [],
   "source": [
    "males = np.array(males)\n",
    "females = np.array(females)"
   ]
  },
  {
   "cell_type": "code",
   "execution_count": 6,
   "id": "7c54be76",
   "metadata": {},
   "outputs": [],
   "source": [
    "observed_values = np.array([males,females])"
   ]
  },
  {
   "cell_type": "code",
   "execution_count": 7,
   "id": "e5163ce8",
   "metadata": {},
   "outputs": [
    {
     "data": {
      "text/plain": [
       "array([[  50,  142,  131,   70],\n",
       "       [ 435, 1523, 1356,  750]], dtype=int64)"
      ]
     },
     "execution_count": 7,
     "metadata": {},
     "output_type": "execute_result"
    }
   ],
   "source": [
    "observed_values "
   ]
  },
  {
   "cell_type": "code",
   "execution_count": 8,
   "id": "9a98b772",
   "metadata": {},
   "outputs": [],
   "source": [
    "val = chi2_contingency(ratio)"
   ]
  },
  {
   "cell_type": "code",
   "execution_count": 9,
   "id": "bf9c2154",
   "metadata": {
    "scrolled": true
   },
   "outputs": [
    {
     "data": {
      "text/plain": [
       "(1.595945538661058,\n",
       " 0.6603094907091882,\n",
       " 3,\n",
       " array([[  42.76531299,  146.81287862,  131.11756787,   72.30424052],\n",
       "        [ 442.23468701, 1518.18712138, 1355.88243213,  747.69575948]]))"
      ]
     },
     "execution_count": 9,
     "metadata": {},
     "output_type": "execute_result"
    }
   ],
   "source": [
    "val"
   ]
  },
  {
   "cell_type": "code",
   "execution_count": 10,
   "id": "686da1d5",
   "metadata": {},
   "outputs": [
    {
     "data": {
      "text/plain": [
       "array([[  42.76531299,  146.81287862,  131.11756787,   72.30424052],\n",
       "       [ 442.23468701, 1518.18712138, 1355.88243213,  747.69575948]])"
      ]
     },
     "execution_count": 10,
     "metadata": {},
     "output_type": "execute_result"
    }
   ],
   "source": [
    "expected_values = val[3]\n",
    "expected_values"
   ]
  },
  {
   "cell_type": "code",
   "execution_count": 11,
   "id": "ea22b0df",
   "metadata": {},
   "outputs": [
    {
     "name": "stdout",
     "output_type": "stream",
     "text": [
      "Degree of freedom =  3\n"
     ]
    }
   ],
   "source": [
    "# degree of freedom = (no of rows-1) * (no of columns)\n",
    "ddof = (2-1)*(4-1)\n",
    "print('Degree of freedom = ',ddof)\n",
    "alpha = 0.05"
   ]
  },
  {
   "cell_type": "code",
   "execution_count": 12,
   "id": "84e16e9c",
   "metadata": {},
   "outputs": [],
   "source": [
    "# now applying the chi square test\n",
    "chi_square = sum([((o-e)**2)/e for o,e in zip(observed_values,expected_values)])\n",
    "chi_square_stats=chi_square[0]+chi_square[1]+chi_square[2]+chi_square[3]"
   ]
  },
  {
   "cell_type": "code",
   "execution_count": 13,
   "id": "7a5746d3",
   "metadata": {},
   "outputs": [
    {
     "data": {
      "text/plain": [
       "1.5959455386610577"
      ]
     },
     "execution_count": 13,
     "metadata": {},
     "output_type": "execute_result"
    }
   ],
   "source": [
    "chi_square_stats"
   ]
  },
  {
   "cell_type": "code",
   "execution_count": 14,
   "id": "0607cdfb",
   "metadata": {},
   "outputs": [
    {
     "name": "stdout",
     "output_type": "stream",
     "text": [
      "Critical value is : 7.814727903251179\n"
     ]
    }
   ],
   "source": [
    "critical_value = chi2.ppf(q = 1-alpha,df=ddof)\n",
    "print('Critical value is :',critical_value)"
   ]
  },
  {
   "cell_type": "code",
   "execution_count": 15,
   "id": "64b5b0f1",
   "metadata": {},
   "outputs": [
    {
     "name": "stdout",
     "output_type": "stream",
     "text": [
      "p-value :  0.3396905092908118\n",
      "Significance level :  0.05\n",
      "Degree of freedom :  3\n"
     ]
    }
   ],
   "source": [
    "p_value = chi2.cdf(x=chi_square_stats, df= ddof)\n",
    "print('p-value : ',p_value)\n",
    "print('Significance level : ',alpha)\n",
    "print('Degree of freedom : ',ddof)"
   ]
  },
  {
   "cell_type": "code",
   "execution_count": 16,
   "id": "c4f906ae",
   "metadata": {},
   "outputs": [
    {
     "name": "stdout",
     "output_type": "stream",
     "text": [
      "Reject alternate hypothesis and accept null hypothesis, Not all proportions are equal\n",
      "Reject alternate hypothesis and accept null hypothesis, Not all proportions are equal\n"
     ]
    }
   ],
   "source": [
    "if chi_square_stats>=critical_value:\n",
    "    print('Reject null hypothesis and accept alternate hypothesis, All proportions are equal')\n",
    "else:\n",
    "    print('Reject alternate hypothesis and accept null hypothesis, Not all proportions are equal')\n",
    "\n",
    "if p_value<=alpha:\n",
    "    print('Reject null hypothesis and accept alternate hypothesis, All proportions are equal')\n",
    "else:\n",
    "    print('Reject alternate hypothesis and accept null hypothesis, Not all proportions are equal')"
   ]
  },
  {
   "cell_type": "code",
   "execution_count": null,
   "id": "c99f626f",
   "metadata": {},
   "outputs": [],
   "source": []
  }
 ],
 "metadata": {
  "kernelspec": {
   "display_name": "Python 3 (ipykernel)",
   "language": "python",
   "name": "python3"
  },
  "language_info": {
   "codemirror_mode": {
    "name": "ipython",
    "version": 3
   },
   "file_extension": ".py",
   "mimetype": "text/x-python",
   "name": "python",
   "nbconvert_exporter": "python",
   "pygments_lexer": "ipython3",
   "version": "3.9.12"
  }
 },
 "nbformat": 4,
 "nbformat_minor": 5
}
