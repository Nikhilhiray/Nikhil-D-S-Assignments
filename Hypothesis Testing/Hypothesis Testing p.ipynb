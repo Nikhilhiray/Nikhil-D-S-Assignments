{
  "cells": [
    {
      "cell_type": "markdown",
      "metadata": {
        "id": "DT4nypAKhd_J"
      },
      "source": [
        "**Question-4)**\n",
        "\n",
        "**TeleCall uses 4 centers around the globe to process customer order forms. They audit a certain %  of the customer order forms. Any error in order form renders it defective and has to be reworked before processing.  The manager wants to check whether the defective %  varies by centre. Please analyze the data at 5% significance level and help the manager draw appropriate inferences**\n",
        "\n",
        "**Minitab File: CustomerOrderForm.mtw**\n"
      ]
    },
    {
      "cell_type": "markdown",
      "metadata": {
        "id": "NKwFKvn7iegm"
      },
      "source": [
        "Ans: **Customer order forms defective % does not varies by centre**\n",
        "\n",
        "Explanation:\n",
        "\n",
        "We need to check whether Customer order forms defective % does varies by centre or not\n",
        "\n",
        "**Test :** Chi-Square test with Contingency table\n",
        "\n",
        "**Hypothesis:**\n",
        "\n",
        "Null Hypothesis:\n",
        "\n",
        "customer order forms defective % does not varies by centre\n",
        "\n",
        "Alternative Hypthosis:\n",
        "\n",
        "customer order forms defective % varies by centre\n",
        "\n",
        "**Significance :** \n",
        "alpha =5%= 0.05\n",
        "\n",
        "**Comparision & conclusion:**\n",
        "\n",
        "p_value with 'α'\n",
        "\n",
        "If p_value > 'α' we failed to reject Null Hypothesis because of lack of evidence\n",
        "\n",
        "If p_value is < 'α' we reject Null Hypothesis"
      ]
    },
    {
      "cell_type": "code",
      "execution_count": null,
      "metadata": {
        "colab": {
          "base_uri": "https://localhost:8080/"
        },
        "id": "Y3eige7_x8C_",
        "outputId": "854fa222-196a-4d9b-ef92-342fbfb39a63"
      },
      "outputs": [
        {
          "data": {
            "text/plain": [
              "7.814727903251179"
            ]
          },
          "execution_count": 159,
          "metadata": {},
          "output_type": "execute_result"
        }
      ],
      "source": [
        "\n",
        "from scipy.stats import chi2\n",
        "critical_value_tele=chi2.ppf(0.95,3)\n",
        "critical_value_tele\n",
        "\n",
        "#or\n",
        "#alpha = 0.05\n",
        "#prob=1-alpha\n",
        "#criticalvalue = chi2.ppf(prob,df_tab)\n",
        "#print(criticalvalue)\n"
      ]
    },
    {
      "cell_type": "code",
      "execution_count": null,
      "metadata": {
        "colab": {
          "base_uri": "https://localhost:8080/"
        },
        "id": "u_utpI8rySo5",
        "outputId": "d31bf989-3e6c-4f0c-f813-6cd6ad627ad2"
      },
      "outputs": [
        {
          "data": {
            "text/plain": [
              "3.8589606858203545"
            ]
          },
          "execution_count": 153,
          "metadata": {},
          "output_type": "execute_result"
        }
      ],
      "source": [
        "from scipy.stats import chi2\n",
        "chi_square_statestic_tele=sum([(o-e)**2/e for o,e in zip(observed_tele,expected_tele)])\n",
        "chi_square_statestic_tele"
      ]
    },
    {
      "cell_type": "code",
      "execution_count": null,
      "metadata": {
        "colab": {
          "base_uri": "https://localhost:8080/"
        },
        "id": "8EsYTqTcyklU",
        "outputId": "8fd3f589-da56-47fe-8048-61815c23d36c"
      },
      "outputs": [
        {
          "data": {
            "text/plain": [
              "0.2771020991233144"
            ]
          },
          "execution_count": 155,
          "metadata": {},
          "output_type": "execute_result"
        }
      ],
      "source": [
        "#p from chi square\n",
        "pvalue_tele=1-chi2.cdf(chi_square_statestic_tele,3)\n",
        "pvalue_tele"
      ]
    },
    {
      "cell_type": "code",
      "execution_count": null,
      "metadata": {
        "colab": {
          "base_uri": "https://localhost:8080/"
        },
        "id": "FZS3WvjHy3_8",
        "outputId": "3fab15cc-dbd7-4ad5-bfec-63ea01ae6c5b"
      },
      "outputs": [
        {
          "name": "stdout",
          "output_type": "stream",
          "text": [
            "\n",
            " We fail to reject Null hypothesis \n",
            "\n",
            " ∴ customer order forms defective % does not varies by centre\n"
          ]
        }
      ],
      "source": [
        "if chi_square_statestic_tele >= critical_value_tele:\n",
        "   print('\\n We reject Null Hypothesis','\\n\\n ∴ customer order forms defective % varies by centre')\n",
        "else:\n",
        "    print('\\n We fail to reject Null hypothesis','\\n\\n ∴ customer order forms defective % does not varies by centre')\n"
      ]
    }
  ],
  "metadata": {
    "colab": {
      "provenance": []
    },
    "kernelspec": {
      "display_name": "Python 3",
      "name": "python3"
    },
    "language_info": {
      "name": "python"
    }
  },
  "nbformat": 4,
  "nbformat_minor": 0
}
